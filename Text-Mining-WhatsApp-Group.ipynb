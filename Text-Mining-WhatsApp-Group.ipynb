{
 "cells": [
  {
   "cell_type": "code",
   "execution_count": 7,
   "metadata": {},
   "outputs": [
    {
     "name": "stdout",
     "output_type": "stream",
     "text": [
      "[nltk_data] Downloading package stopwords to\n",
      "[nltk_data]     /Users/rushilmehtani/nltk_data...\n",
      "[nltk_data]   Package stopwords is already up-to-date!\n",
      "\n",
      "Calculating WhatsApp Group similarity scores ->\n",
      "\n",
      " The Similarity Score is -> [*]  [[1.         0.87343953]]\n"
     ]
    }
   ],
   "source": [
    "from sklearn.metrics.pairwise import cosine_similarity\n",
    "from sklearn.feature_extraction.text import TfidfVectorizer \n",
    "from nltk.corpus import stopwords \n",
    "import nltk \n",
    "nltk.download('stopwords')\n",
    "\n",
    "# Bring in standard stopwords \n",
    "stopWords = stopwords.words('english')\n",
    "\n",
    "print (\"\\nCalculating WhatsApp Group similarity scores ->\")\n",
    "\n",
    "# Open and read a bunch of files \n",
    "f = open('CSE.txt')\n",
    "doc1 = str(f.read())\n",
    "\n",
    "f = open('GGB.txt') \n",
    "doc2 = str(f.read())\n",
    "\n",
    "# Create a string to use to test the similarity scoring \n",
    "train_string = 'The'\n",
    "\n",
    "# Construct the training set as a list \n",
    "train_set = [ doc1, doc2]\n",
    "\n",
    "# Set up the vectoriser, passing in the stop words\n",
    "tfidf_vectorizer = TfidfVectorizer(stop_words=stopWords)\n",
    "\n",
    "# Apply the vectoriser to the training set \n",
    "tfidf_matrix_train = tfidf_vectorizer.fit_transform(train_set)\n",
    "\n",
    "# Print the score\n",
    "print (\"\\n The Similarity Score is -> [*] \",cosine_similarity(tfidf_matrix_train[0:1], tfidf_matrix_train))"
   ]
  },
  {
   "cell_type": "code",
   "execution_count": null,
   "metadata": {},
   "outputs": [],
   "source": []
  }
 ],
 "metadata": {
  "kernelspec": {
   "display_name": "Python 3",
   "language": "python",
   "name": "python3"
  },
  "language_info": {
   "codemirror_mode": {
    "name": "ipython",
    "version": 3
   },
   "file_extension": ".py",
   "mimetype": "text/x-python",
   "name": "python",
   "nbconvert_exporter": "python",
   "pygments_lexer": "ipython3",
   "version": "3.7.0"
  }
 },
 "nbformat": 4,
 "nbformat_minor": 2
}
